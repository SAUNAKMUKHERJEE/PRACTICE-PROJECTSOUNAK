{
 "cells": [
  {
   "cell_type": "code",
   "execution_count": 1,
   "id": "c235af54",
   "metadata": {
    "id": "c235af54"
   },
   "outputs": [],
   "source": [
    "import numpy as np\n",
    "import pandas as pd\n",
    "import matplotlib.pyplot as plt\n",
    "import seaborn as sns\n",
    "from sklearn.datasets import load_breast_cancer\n",
    "from sklearn.linear_model import LogisticRegression\n",
    "from sklearn.metrics import accuracy_score\n",
    "from sklearn.metrics import confusion_matrix,classification_report\n",
    "import warnings\n",
    "warnings.filterwarnings('ignore')"
   ]
  },
  {
   "cell_type": "code",
   "execution_count": 2,
   "id": "2f86c046",
   "metadata": {
    "colab": {
     "base_uri": "https://localhost:8080/",
     "height": 424
    },
    "id": "2f86c046",
    "outputId": "bae8123c-3a78-4393-ea6d-5d9bfdd26f5c"
   },
   "outputs": [
    {
     "data": {
      "text/html": [
       "<div>\n",
       "<style scoped>\n",
       "    .dataframe tbody tr th:only-of-type {\n",
       "        vertical-align: middle;\n",
       "    }\n",
       "\n",
       "    .dataframe tbody tr th {\n",
       "        vertical-align: top;\n",
       "    }\n",
       "\n",
       "    .dataframe thead th {\n",
       "        text-align: right;\n",
       "    }\n",
       "</style>\n",
       "<table border=\"1\" class=\"dataframe\">\n",
       "  <thead>\n",
       "    <tr style=\"text-align: right;\">\n",
       "      <th></th>\n",
       "      <th>Unnamed: 0</th>\n",
       "      <th>TV</th>\n",
       "      <th>radio</th>\n",
       "      <th>newspaper</th>\n",
       "      <th>sales</th>\n",
       "    </tr>\n",
       "  </thead>\n",
       "  <tbody>\n",
       "    <tr>\n",
       "      <th>0</th>\n",
       "      <td>1</td>\n",
       "      <td>230.1</td>\n",
       "      <td>37.8</td>\n",
       "      <td>69.2</td>\n",
       "      <td>22.1</td>\n",
       "    </tr>\n",
       "    <tr>\n",
       "      <th>1</th>\n",
       "      <td>2</td>\n",
       "      <td>44.5</td>\n",
       "      <td>39.3</td>\n",
       "      <td>45.1</td>\n",
       "      <td>10.4</td>\n",
       "    </tr>\n",
       "    <tr>\n",
       "      <th>2</th>\n",
       "      <td>3</td>\n",
       "      <td>17.2</td>\n",
       "      <td>45.9</td>\n",
       "      <td>69.3</td>\n",
       "      <td>9.3</td>\n",
       "    </tr>\n",
       "    <tr>\n",
       "      <th>3</th>\n",
       "      <td>4</td>\n",
       "      <td>151.5</td>\n",
       "      <td>41.3</td>\n",
       "      <td>58.5</td>\n",
       "      <td>18.5</td>\n",
       "    </tr>\n",
       "    <tr>\n",
       "      <th>4</th>\n",
       "      <td>5</td>\n",
       "      <td>180.8</td>\n",
       "      <td>10.8</td>\n",
       "      <td>58.4</td>\n",
       "      <td>12.9</td>\n",
       "    </tr>\n",
       "    <tr>\n",
       "      <th>...</th>\n",
       "      <td>...</td>\n",
       "      <td>...</td>\n",
       "      <td>...</td>\n",
       "      <td>...</td>\n",
       "      <td>...</td>\n",
       "    </tr>\n",
       "    <tr>\n",
       "      <th>195</th>\n",
       "      <td>196</td>\n",
       "      <td>38.2</td>\n",
       "      <td>3.7</td>\n",
       "      <td>13.8</td>\n",
       "      <td>7.6</td>\n",
       "    </tr>\n",
       "    <tr>\n",
       "      <th>196</th>\n",
       "      <td>197</td>\n",
       "      <td>94.2</td>\n",
       "      <td>4.9</td>\n",
       "      <td>8.1</td>\n",
       "      <td>9.7</td>\n",
       "    </tr>\n",
       "    <tr>\n",
       "      <th>197</th>\n",
       "      <td>198</td>\n",
       "      <td>177.0</td>\n",
       "      <td>9.3</td>\n",
       "      <td>6.4</td>\n",
       "      <td>12.8</td>\n",
       "    </tr>\n",
       "    <tr>\n",
       "      <th>198</th>\n",
       "      <td>199</td>\n",
       "      <td>283.6</td>\n",
       "      <td>42.0</td>\n",
       "      <td>66.2</td>\n",
       "      <td>25.5</td>\n",
       "    </tr>\n",
       "    <tr>\n",
       "      <th>199</th>\n",
       "      <td>200</td>\n",
       "      <td>232.1</td>\n",
       "      <td>8.6</td>\n",
       "      <td>8.7</td>\n",
       "      <td>13.4</td>\n",
       "    </tr>\n",
       "  </tbody>\n",
       "</table>\n",
       "<p>200 rows × 5 columns</p>\n",
       "</div>"
      ],
      "text/plain": [
       "     Unnamed: 0     TV  radio  newspaper  sales\n",
       "0             1  230.1   37.8       69.2   22.1\n",
       "1             2   44.5   39.3       45.1   10.4\n",
       "2             3   17.2   45.9       69.3    9.3\n",
       "3             4  151.5   41.3       58.5   18.5\n",
       "4             5  180.8   10.8       58.4   12.9\n",
       "..          ...    ...    ...        ...    ...\n",
       "195         196   38.2    3.7       13.8    7.6\n",
       "196         197   94.2    4.9        8.1    9.7\n",
       "197         198  177.0    9.3        6.4   12.8\n",
       "198         199  283.6   42.0       66.2   25.5\n",
       "199         200  232.1    8.6        8.7   13.4\n",
       "\n",
       "[200 rows x 5 columns]"
      ]
     },
     "execution_count": 2,
     "metadata": {},
     "output_type": "execute_result"
    }
   ],
   "source": [
    "df=pd.read_csv(\"https://raw.githubusercontent.com/dsrscientist/DSData/master/Advertising.csv\")\n",
    "df"
   ]
  },
  {
   "cell_type": "code",
   "execution_count": 3,
   "id": "1fbf2243",
   "metadata": {
    "id": "1fbf2243"
   },
   "outputs": [],
   "source": [
    "df=df.drop([\"Unnamed: 0\"],axis=1)"
   ]
  },
  {
   "cell_type": "code",
   "execution_count": 4,
   "id": "e340857e",
   "metadata": {
    "colab": {
     "base_uri": "https://localhost:8080/"
    },
    "id": "e340857e",
    "outputId": "4d0acf29-a601-4f35-d05f-9189791717f8"
   },
   "outputs": [
    {
     "data": {
      "text/plain": [
       "Index(['TV', 'radio', 'newspaper', 'sales'], dtype='object')"
      ]
     },
     "execution_count": 4,
     "metadata": {},
     "output_type": "execute_result"
    }
   ],
   "source": [
    "df.columns"
   ]
  },
  {
   "cell_type": "markdown",
   "id": "58df139c",
   "metadata": {
    "id": "58df139c"
   },
   "source": [
    "# Checking null values"
   ]
  },
  {
   "cell_type": "code",
   "execution_count": 5,
   "id": "94f77f2d",
   "metadata": {
    "colab": {
     "base_uri": "https://localhost:8080/"
    },
    "id": "94f77f2d",
    "outputId": "20691afa-3456-4a1e-b257-09c9af5c0884"
   },
   "outputs": [
    {
     "data": {
      "text/plain": [
       "TV           0\n",
       "radio        0\n",
       "newspaper    0\n",
       "sales        0\n",
       "dtype: int64"
      ]
     },
     "execution_count": 5,
     "metadata": {},
     "output_type": "execute_result"
    }
   ],
   "source": [
    "df.isnull().sum()"
   ]
  },
  {
   "cell_type": "markdown",
   "id": "861e0652",
   "metadata": {
    "id": "861e0652"
   },
   "source": [
    "no null values are present"
   ]
  },
  {
   "cell_type": "code",
   "execution_count": null,
   "id": "8b178360",
   "metadata": {
    "id": "8b178360"
   },
   "outputs": [],
   "source": []
  },
  {
   "cell_type": "code",
   "execution_count": 6,
   "id": "e91d8b78",
   "metadata": {
    "colab": {
     "base_uri": "https://localhost:8080/"
    },
    "id": "e91d8b78",
    "outputId": "68a0495d-3d1b-423e-b1e5-44ad81488c34"
   },
   "outputs": [
    {
     "data": {
      "text/plain": [
       "TV           float64\n",
       "radio        float64\n",
       "newspaper    float64\n",
       "sales        float64\n",
       "dtype: object"
      ]
     },
     "execution_count": 6,
     "metadata": {},
     "output_type": "execute_result"
    }
   ],
   "source": [
    "df.dtypes"
   ]
  },
  {
   "cell_type": "code",
   "execution_count": 7,
   "id": "715ff2c1",
   "metadata": {
    "colab": {
     "base_uri": "https://localhost:8080/"
    },
    "id": "715ff2c1",
    "outputId": "a632d1f9-cc69-4411-fe1b-894f5cf2c45e"
   },
   "outputs": [
    {
     "data": {
      "text/plain": [
       "array([22.1, 10.4,  9.3, 18.5, 12.9,  7.2, 11.8, 13.2,  4.8, 10.6,  8.6,\n",
       "       17.4,  9.2,  9.7, 19. , 22.4, 12.5, 24.4, 11.3, 14.6, 18. ,  5.6,\n",
       "       15.5, 12. , 15. , 15.9, 18.9, 10.5, 21.4, 11.9,  9.6,  9.5, 12.8,\n",
       "       25.4, 14.7, 10.1, 21.5, 16.6, 17.1, 20.7,  8.5, 14.9, 23.2, 14.8,\n",
       "       11.4, 10.7, 22.6, 21.2, 20.2, 23.7,  5.5, 23.8, 18.4,  8.1, 24.2,\n",
       "       15.7, 14. , 13.4, 22.3, 18.3, 12.4,  8.8, 11. , 17. ,  8.7,  6.9,\n",
       "       14.2,  5.3, 12.3, 13.6, 21.7, 15.2, 16. , 16.7, 11.2,  7.3, 19.4,\n",
       "       22.2, 11.5, 16.9, 11.7, 17.2, 19.2, 19.8, 21.8, 14.1, 12.6, 12.2,\n",
       "        9.4,  6.6,  7. , 11.6, 19.7, 24.7,  1.6, 12.7,  5.7, 19.6, 10.8,\n",
       "       20.8, 10.9, 20.1, 10.3, 16.1, 15.6,  3.2, 15.3, 14.4, 13.3,  8. ,\n",
       "        8.4, 14.5,  7.6, 27. , 26.2, 17.6, 17.3,  6.7,  9.9,  5.9, 25.5])"
      ]
     },
     "execution_count": 7,
     "metadata": {},
     "output_type": "execute_result"
    }
   ],
   "source": [
    "df[\"sales\"].unique()"
   ]
  },
  {
   "cell_type": "code",
   "execution_count": 8,
   "id": "7ec749a4",
   "metadata": {
    "colab": {
     "base_uri": "https://localhost:8080/",
     "height": 49
    },
    "id": "7ec749a4",
    "outputId": "f7addfbf-1394-43a0-c8a9-79885cb8a306"
   },
   "outputs": [
    {
     "data": {
      "text/html": [
       "<div>\n",
       "<style scoped>\n",
       "    .dataframe tbody tr th:only-of-type {\n",
       "        vertical-align: middle;\n",
       "    }\n",
       "\n",
       "    .dataframe tbody tr th {\n",
       "        vertical-align: top;\n",
       "    }\n",
       "\n",
       "    .dataframe thead th {\n",
       "        text-align: right;\n",
       "    }\n",
       "</style>\n",
       "<table border=\"1\" class=\"dataframe\">\n",
       "  <thead>\n",
       "    <tr style=\"text-align: right;\">\n",
       "      <th></th>\n",
       "      <th>TV</th>\n",
       "      <th>radio</th>\n",
       "      <th>newspaper</th>\n",
       "      <th>sales</th>\n",
       "    </tr>\n",
       "  </thead>\n",
       "  <tbody>\n",
       "  </tbody>\n",
       "</table>\n",
       "</div>"
      ],
      "text/plain": [
       "Empty DataFrame\n",
       "Columns: [TV, radio, newspaper, sales]\n",
       "Index: []"
      ]
     },
     "execution_count": 8,
     "metadata": {},
     "output_type": "execute_result"
    }
   ],
   "source": [
    "df.loc[df['sales']==\" \"]"
   ]
  },
  {
   "cell_type": "markdown",
   "id": "b2b4441f",
   "metadata": {
    "id": "b2b4441f"
   },
   "source": [
    "There is no spaces is there"
   ]
  },
  {
   "cell_type": "markdown",
   "id": "a391f495",
   "metadata": {
    "id": "a391f495"
   },
   "source": [
    "# Visualization of data"
   ]
  },
  {
   "cell_type": "code",
   "execution_count": 9,
   "id": "ecd5e164",
   "metadata": {
    "colab": {
     "base_uri": "https://localhost:8080/",
     "height": 743
    },
    "id": "ecd5e164",
    "outputId": "4aa203c0-abdc-4d1d-afad-388e868a0272"
   },
   "outputs": [
    {
     "data": {
      "text/plain": [
       "<seaborn.axisgrid.PairGrid at 0x179a3c59730>"
      ]
     },
     "execution_count": 9,
     "metadata": {},
     "output_type": "execute_result"
    },
    {
     "data": {
      "image/png": "[encoded data removed]",
      "text/plain": [
       "<Figure size 720x720 with 20 Axes>"
      ]
     },
     "metadata": {
      "needs_background": "light"
     },
     "output_type": "display_data"
    }
   ],
   "source": [
    "sns.pairplot(df)"
   ]
  },
  {
   "cell_type": "markdown",
   "id": "5a8848a3",
   "metadata": {
    "id": "5a8848a3"
   },
   "source": [
    "# Checking the distribution of the continous value of the float type columns:"
   ]
  },
  {
   "cell_type": "code",
   "execution_count": 10,
   "id": "650712f2",
   "metadata": {
    "id": "650712f2"
   },
   "outputs": [],
   "source": [
    "df_visualization_continous=df[[\"sales\",'TV','newspaper','radio']].copy()"
   ]
  },
  {
   "cell_type": "code",
   "execution_count": 11,
   "id": "b2dce28e",
   "metadata": {
    "colab": {
     "base_uri": "https://localhost:8080/",
     "height": 386
    },
    "id": "b2dce28e",
    "outputId": "a5316583-09a7-4200-9171-b4c997ad348d"
   },
   "outputs": [
    {
     "data": {
      "text/plain": [
       "<seaborn.axisgrid.FacetGrid at 0x179a4a31cd0>"
      ]
     },
     "execution_count": 11,
     "metadata": {},
     "output_type": "execute_result"
    },
    {
     "data": {
      "image/png": "[encoded data removed]",
      "text/plain": [
       "<Figure size 360x360 with 1 Axes>"
      ]
     },
     "metadata": {
      "needs_background": "light"
     },
     "output_type": "display_data"
    }
   ],
   "source": [
    "sns.displot(df_visualization_continous['sales'],kde=True)"
   ]
  },
  {
   "cell_type": "code",
   "execution_count": 12,
   "id": "4aeaf6f6",
   "metadata": {
    "colab": {
     "base_uri": "https://localhost:8080/",
     "height": 386
    },
    "id": "4aeaf6f6",
    "outputId": "a19bb891-ba18-4b25-ead3-5b4bcffee8e8"
   },
   "outputs": [
    {
     "data": {
      "text/plain": [
       "<seaborn.axisgrid.FacetGrid at 0x179a45dc910>"
      ]
     },
     "execution_count": 12,
     "metadata": {},
     "output_type": "execute_result"
    },
    {
     "data": {
      "image/png": "[encoded data removed]",
      "text/plain": [
       "<Figure size 360x360 with 1 Axes>"
      ]
     },
     "metadata": {
      "needs_background": "light"
     },
     "output_type": "display_data"
    }
   ],
   "source": [
    "sns.displot(df_visualization_continous['TV'],kde=True)"
   ]
  },
  {
   "cell_type": "code",
   "execution_count": 13,
   "id": "c53994c1",
   "metadata": {
    "colab": {
     "base_uri": "https://localhost:8080/",
     "height": 386
    },
    "id": "c53994c1",
    "outputId": "9b15c4c8-ac63-4299-ff5b-e905a34c5bf8"
   },
   "outputs": [
    {
     "data": {
      "text/plain": [
       "<seaborn.axisgrid.FacetGrid at 0x179a487c280>"
      ]
     },
     "execution_count": 13,
     "metadata": {},
     "output_type": "execute_result"
    },
    {
     "data": {
      "image/png": "[encoded data removed]",
      "text/plain": [
       "<Figure size 360x360 with 1 Axes>"
      ]
     },
     "metadata": {
      "needs_background": "light"
     },
     "output_type": "display_data"
    }
   ],
   "source": [
    "sns.displot(df_visualization_continous['radio'],kde=True)"
   ]
  },
  {
   "cell_type": "code",
   "execution_count": 14,
   "id": "6610a6fe",
   "metadata": {
    "colab": {
     "base_uri": "https://localhost:8080/",
     "height": 386
    },
    "id": "6610a6fe",
    "outputId": "f4858156-8c2e-4d32-e922-40ffcda11d84"
   },
   "outputs": [
    {
     "data": {
      "text/plain": [
       "<seaborn.axisgrid.FacetGrid at 0x179a4a40a60>"
      ]
     },
     "execution_count": 14,
     "metadata": {},
     "output_type": "execute_result"
    },
    {
     "data": {
      "image/png": "[encoded data removed]",
      "text/plain": [
       "<Figure size 360x360 with 1 Axes>"
      ]
     },
     "metadata": {
      "needs_background": "light"
     },
     "output_type": "display_data"
    }
   ],
   "source": [
    "sns.displot(df_visualization_continous['newspaper'],kde=True)"
   ]
  },
  {
   "cell_type": "code",
   "execution_count": null,
   "id": "b34bdc5c",
   "metadata": {
    "id": "b34bdc5c"
   },
   "outputs": [],
   "source": []
  },
  {
   "cell_type": "code",
   "execution_count": 15,
   "id": "88458068",
   "metadata": {
    "colab": {
     "base_uri": "https://localhost:8080/",
     "height": 282
    },
    "id": "88458068",
    "outputId": "8d0ca9b9-1885-4511-ff8d-4c3f1bc8d019"
   },
   "outputs": [
    {
     "data": {
      "text/plain": [
       "<AxesSubplot:>"
      ]
     },
     "execution_count": 15,
     "metadata": {},
     "output_type": "execute_result"
    },
    {
     "data": {
      "image/png": "[encoded data removed]",
      "text/plain": [
       "<Figure size 432x288 with 1 Axes>"
      ]
     },
     "metadata": {
      "needs_background": "light"
     },
     "output_type": "display_data"
    }
   ],
   "source": [
    "df['TV'].plot.box()"
   ]
  },
  {
   "cell_type": "code",
   "execution_count": 16,
   "id": "deb76926",
   "metadata": {
    "colab": {
     "base_uri": "https://localhost:8080/",
     "height": 282
    },
    "id": "deb76926",
    "outputId": "3f6c2999-4ca2-4b9a-bc1f-3288ce468066"
   },
   "outputs": [
    {
     "data": {
      "text/plain": [
       "<AxesSubplot:>"
      ]
     },
     "execution_count": 16,
     "metadata": {},
     "output_type": "execute_result"
    },
    {
     "data": {
      "image/png": "[encoded data removed]",
      "text/plain": [
       "<Figure size 432x288 with 1 Axes>"
      ]
     },
     "metadata": {
      "needs_background": "light"
     },
     "output_type": "display_data"
    }
   ],
   "source": [
    "df['radio'].plot.box()"
   ]
  },
  {
   "cell_type": "code",
   "execution_count": 17,
   "id": "1a73e5c5",
   "metadata": {
    "colab": {
     "base_uri": "https://localhost:8080/",
     "height": 282
    },
    "id": "1a73e5c5",
    "outputId": "44d7584e-37db-4c85-db87-7dc0103848ab"
   },
   "outputs": [
    {
     "data": {
      "text/plain": [
       "<AxesSubplot:>"
      ]
     },
     "execution_count": 17,
     "metadata": {},
     "output_type": "execute_result"
    },
    {
     "data": {
      "image/png": "[encoded data removed]",
      "text/plain": [
       "<Figure size 432x288 with 1 Axes>"
      ]
     },
     "metadata": {
      "needs_background": "light"
     },
     "output_type": "display_data"
    }
   ],
   "source": [
    "df['newspaper'].plot.box()"
   ]
  },
  {
   "cell_type": "code",
   "execution_count": 18,
   "id": "e87187ac",
   "metadata": {
    "colab": {
     "base_uri": "https://localhost:8080/",
     "height": 282
    },
    "id": "e87187ac",
    "outputId": "18a5023a-258e-48c9-e05c-0ce56ad64599"
   },
   "outputs": [
    {
     "data": {
      "text/plain": [
       "<AxesSubplot:>"
      ]
     },
     "execution_count": 18,
     "metadata": {},
     "output_type": "execute_result"
    },
    {
     "data": {
      "image/png": "[encoded data removed]",
      "text/plain": [
       "<Figure size 432x288 with 1 Axes>"
      ]
     },
     "metadata": {
      "needs_background": "light"
     },
     "output_type": "display_data"
    }
   ],
   "source": [
    "df['sales'].plot.box()"
   ]
  },
  {
   "cell_type": "markdown",
   "id": "4a30d778",
   "metadata": {
    "id": "4a30d778"
   },
   "source": [
    "in the newspaper column some outlayers are present"
   ]
  },
  {
   "cell_type": "code",
   "execution_count": 19,
   "id": "d657fef6",
   "metadata": {
    "colab": {
     "base_uri": "https://localhost:8080/",
     "height": 300
    },
    "id": "d657fef6",
    "outputId": "3bf0ac30-c13c-4424-cc10-bdcf9be5aba2"
   },
   "outputs": [
    {
     "data": {
      "text/html": [
       "<div>\n",
       "<style scoped>\n",
       "    .dataframe tbody tr th:only-of-type {\n",
       "        vertical-align: middle;\n",
       "    }\n",
       "\n",
       "    .dataframe tbody tr th {\n",
       "        vertical-align: top;\n",
       "    }\n",
       "\n",
       "    .dataframe thead th {\n",
       "        text-align: right;\n",
       "    }\n",
       "</style>\n",
       "<table border=\"1\" class=\"dataframe\">\n",
       "  <thead>\n",
       "    <tr style=\"text-align: right;\">\n",
       "      <th></th>\n",
       "      <th>TV</th>\n",
       "      <th>radio</th>\n",
       "      <th>newspaper</th>\n",
       "      <th>sales</th>\n",
       "    </tr>\n",
       "  </thead>\n",
       "  <tbody>\n",
       "    <tr>\n",
       "      <th>count</th>\n",
       "      <td>200.000000</td>\n",
       "      <td>200.000000</td>\n",
       "      <td>200.000000</td>\n",
       "      <td>200.000000</td>\n",
       "    </tr>\n",
       "    <tr>\n",
       "      <th>mean</th>\n",
       "      <td>147.042500</td>\n",
       "      <td>23.264000</td>\n",
       "      <td>30.554000</td>\n",
       "      <td>14.022500</td>\n",
       "    </tr>\n",
       "    <tr>\n",
       "      <th>std</th>\n",
       "      <td>85.854236</td>\n",
       "      <td>14.846809</td>\n",
       "      <td>21.778621</td>\n",
       "      <td>5.217457</td>\n",
       "    </tr>\n",
       "    <tr>\n",
       "      <th>min</th>\n",
       "      <td>0.700000</td>\n",
       "      <td>0.000000</td>\n",
       "      <td>0.300000</td>\n",
       "      <td>1.600000</td>\n",
       "    </tr>\n",
       "    <tr>\n",
       "      <th>25%</th>\n",
       "      <td>74.375000</td>\n",
       "      <td>9.975000</td>\n",
       "      <td>12.750000</td>\n",
       "      <td>10.375000</td>\n",
       "    </tr>\n",
       "    <tr>\n",
       "      <th>50%</th>\n",
       "      <td>149.750000</td>\n",
       "      <td>22.900000</td>\n",
       "      <td>25.750000</td>\n",
       "      <td>12.900000</td>\n",
       "    </tr>\n",
       "    <tr>\n",
       "      <th>75%</th>\n",
       "      <td>218.825000</td>\n",
       "      <td>36.525000</td>\n",
       "      <td>45.100000</td>\n",
       "      <td>17.400000</td>\n",
       "    </tr>\n",
       "    <tr>\n",
       "      <th>max</th>\n",
       "      <td>296.400000</td>\n",
       "      <td>49.600000</td>\n",
       "      <td>114.000000</td>\n",
       "      <td>27.000000</td>\n",
       "    </tr>\n",
       "  </tbody>\n",
       "</table>\n",
       "</div>"
      ],
      "text/plain": [
       "               TV       radio   newspaper       sales\n",
       "count  200.000000  200.000000  200.000000  200.000000\n",
       "mean   147.042500   23.264000   30.554000   14.022500\n",
       "std     85.854236   14.846809   21.778621    5.217457\n",
       "min      0.700000    0.000000    0.300000    1.600000\n",
       "25%     74.375000    9.975000   12.750000   10.375000\n",
       "50%    149.750000   22.900000   25.750000   12.900000\n",
       "75%    218.825000   36.525000   45.100000   17.400000\n",
       "max    296.400000   49.600000  114.000000   27.000000"
      ]
     },
     "execution_count": 19,
     "metadata": {},
     "output_type": "execute_result"
    }
   ],
   "source": [
    "df.describe()"
   ]
  },
  {
   "cell_type": "code",
   "execution_count": 20,
   "id": "61479f05",
   "metadata": {
    "colab": {
     "base_uri": "https://localhost:8080/",
     "height": 708
    },
    "id": "61479f05",
    "outputId": "c110ea3f-5d84-49bc-d9fc-60d403694ee3"
   },
   "outputs": [
    {
     "data": {
      "image/png": "[encoded data removed]",
      "text/plain": [
       "<Figure size 1080x864 with 2 Axes>"
      ]
     },
     "metadata": {
      "needs_background": "light"
     },
     "output_type": "display_data"
    }
   ],
   "source": [
    "plt.figure(figsize=(15,12))\n",
    "sns.heatmap(round(df.describe()[1:].transpose(),2),linewidth=2,annot=True,fmt=\"f\")\n",
    "plt.xticks(fontsize=18)\n",
    "plt.yticks(fontsize=12) \n",
    "plt.show()"
   ]
  },
  {
   "cell_type": "markdown",
   "id": "108e4fb6",
   "metadata": {
    "id": "108e4fb6"
   },
   "source": [
    "observation:\n",
    "TV\n",
    "mean:147.04\n",
    "median:149.75\n",
    "std:85\n",
    "min:0.70\n",
    "max:296.40\n",
    "    \n",
    "radio\n",
    "mean:23.6\n",
    "std:14\n",
    "median:22.90\n",
    "min:0\n",
    "max:49\n",
    "    \n",
    "newspaper\n",
    "mean:30.55\n",
    "std:21\n",
    "median:25.75\n",
    "min:0.30\n",
    "max:114\n",
    "\n",
    "sales\n",
    "mean:14\n",
    "std:5\n",
    "median:12.9\n",
    "min:1.60\n",
    "max:27"
   ]
  },
  {
   "cell_type": "markdown",
   "id": "3875c4ea",
   "metadata": {},
   "source": [
    "Tv,radio,Newspaper and sales everywhere mean is greater than median that means skewness is present.......and standard deviation is not so high that means data is not highly spreaded"
   ]
  },
  {
   "cell_type": "markdown",
   "id": "4df4a836",
   "metadata": {
    "id": "4df4a836"
   },
   "source": [
    "# CORRELATION"
   ]
  },
  {
   "cell_type": "code",
   "execution_count": 21,
   "id": "8cd04427",
   "metadata": {
    "colab": {
     "base_uri": "https://localhost:8080/",
     "height": 0
    },
    "id": "8cd04427",
    "outputId": "f24ed051-4b30-4a0c-9405-cf3dfc57d296"
   },
   "outputs": [
    {
     "data": {
      "text/html": [
       "<div>\n",
       "<style scoped>\n",
       "    .dataframe tbody tr th:only-of-type {\n",
       "        vertical-align: middle;\n",
       "    }\n",
       "\n",
       "    .dataframe tbody tr th {\n",
       "        vertical-align: top;\n",
       "    }\n",
       "\n",
       "    .dataframe thead th {\n",
       "        text-align: right;\n",
       "    }\n",
       "</style>\n",
       "<table border=\"1\" class=\"dataframe\">\n",
       "  <thead>\n",
       "    <tr style=\"text-align: right;\">\n",
       "      <th></th>\n",
       "      <th>TV</th>\n",
       "      <th>radio</th>\n",
       "      <th>newspaper</th>\n",
       "      <th>sales</th>\n",
       "    </tr>\n",
       "  </thead>\n",
       "  <tbody>\n",
       "    <tr>\n",
       "      <th>TV</th>\n",
       "      <td>1.000000</td>\n",
       "      <td>0.054809</td>\n",
       "      <td>0.056648</td>\n",
       "      <td>0.782224</td>\n",
       "    </tr>\n",
       "    <tr>\n",
       "      <th>radio</th>\n",
       "      <td>0.054809</td>\n",
       "      <td>1.000000</td>\n",
       "      <td>0.354104</td>\n",
       "      <td>0.576223</td>\n",
       "    </tr>\n",
       "    <tr>\n",
       "      <th>newspaper</th>\n",
       "      <td>0.056648</td>\n",
       "      <td>0.354104</td>\n",
       "      <td>1.000000</td>\n",
       "      <td>0.228299</td>\n",
       "    </tr>\n",
       "    <tr>\n",
       "      <th>sales</th>\n",
       "      <td>0.782224</td>\n",
       "      <td>0.576223</td>\n",
       "      <td>0.228299</td>\n",
       "      <td>1.000000</td>\n",
       "    </tr>\n",
       "  </tbody>\n",
       "</table>\n",
       "</div>"
      ],
      "text/plain": [
       "                 TV     radio  newspaper     sales\n",
       "TV         1.000000  0.054809   0.056648  0.782224\n",
       "radio      0.054809  1.000000   0.354104  0.576223\n",
       "newspaper  0.056648  0.354104   1.000000  0.228299\n",
       "sales      0.782224  0.576223   0.228299  1.000000"
      ]
     },
     "execution_count": 21,
     "metadata": {},
     "output_type": "execute_result"
    }
   ],
   "source": [
    "df.corr()"
   ]
  },
  {
   "cell_type": "markdown",
   "id": "1f88492e",
   "metadata": {},
   "source": [
    "TV has a positive relation ....raidio and newspapers are nagetively correlated"
   ]
  },
  {
   "cell_type": "code",
   "execution_count": 22,
   "id": "14b1fc04",
   "metadata": {
    "colab": {
     "base_uri": "https://localhost:8080/"
    },
    "id": "14b1fc04",
    "outputId": "f9dc0c59-79bf-43fa-a725-ead3b5850669"
   },
   "outputs": [
    {
     "data": {
      "text/plain": [
       "newspaper    0.228299\n",
       "radio        0.576223\n",
       "TV           0.782224\n",
       "sales        1.000000\n",
       "Name: sales, dtype: float64"
      ]
     },
     "execution_count": 22,
     "metadata": {},
     "output_type": "execute_result"
    }
   ],
   "source": [
    "df.corr()[\"sales\"].sort_values()"
   ]
  },
  {
   "cell_type": "markdown",
   "id": "f058c504",
   "metadata": {
    "id": "f058c504"
   },
   "source": [
    "# outlayer checking:"
   ]
  },
  {
   "cell_type": "code",
   "execution_count": 23,
   "id": "96cdb8c7",
   "metadata": {
    "colab": {
     "base_uri": "https://localhost:8080/"
    },
    "id": "96cdb8c7",
    "outputId": "3b9f65c3-ab2b-4afb-fcec-e056eb33d5b2"
   },
   "outputs": [
    {
     "name": "stdout",
     "output_type": "stream",
     "text": [
      "<class 'pandas.core.frame.DataFrame'>\n",
      "RangeIndex: 200 entries, 0 to 199\n",
      "Data columns (total 4 columns):\n",
      " #   Column     Non-Null Count  Dtype  \n",
      "---  ------     --------------  -----  \n",
      " 0   TV         200 non-null    float64\n",
      " 1   radio      200 non-null    float64\n",
      " 2   newspaper  200 non-null    float64\n",
      " 3   sales      200 non-null    float64\n",
      "dtypes: float64(4)\n",
      "memory usage: 6.4 KB\n"
     ]
    }
   ],
   "source": [
    "df.info()"
   ]
  },
  {
   "cell_type": "code",
   "execution_count": null,
   "id": "ecc4b068",
   "metadata": {
    "id": "ecc4b068"
   },
   "outputs": [],
   "source": []
  },
  {
   "cell_type": "code",
   "execution_count": 24,
   "id": "a9d31632",
   "metadata": {
    "colab": {
     "base_uri": "https://localhost:8080/",
     "height": 0
    },
    "id": "a9d31632",
    "outputId": "3e87d078-3990-47ce-8ee8-0dc6add15902"
   },
   "outputs": [
    {
     "data": {
      "text/plain": [
       "array([<AxesSubplot:ylabel='Density'>, <AxesSubplot:ylabel='Density'>,\n",
       "       <AxesSubplot:ylabel='Density'>, <AxesSubplot:ylabel='Density'>],\n",
       "      dtype=object)"
      ]
     },
     "execution_count": 24,
     "metadata": {},
     "output_type": "execute_result"
    },
    {
     "data": {
      "image/png": "[encoded data removed]",
      "text/plain": [
       "<Figure size 720x720 with 4 Axes>"
      ]
     },
     "metadata": {
      "needs_background": "light"
     },
     "output_type": "display_data"
    }
   ],
   "source": [
    "df.plot(kind='kde',subplots=True,figsize=(10,10))"
   ]
  },
  {
   "cell_type": "code",
   "execution_count": null,
   "id": "a2584d23",
   "metadata": {
    "id": "a2584d23"
   },
   "outputs": [],
   "source": []
  },
  {
   "cell_type": "markdown",
   "id": "3b523306",
   "metadata": {
    "id": "3b523306"
   },
   "source": [
    "# Considering the outlier removal"
   ]
  },
  {
   "cell_type": "code",
   "execution_count": 25,
   "id": "182fc076",
   "metadata": {
    "colab": {
     "base_uri": "https://localhost:8080/"
    },
    "id": "182fc076",
    "outputId": "8d7d2cff-81fc-4be4-fa36-1af5c7b065f7"
   },
   "outputs": [
    {
     "data": {
      "text/plain": [
       "(200, 4)"
      ]
     },
     "execution_count": 25,
     "metadata": {},
     "output_type": "execute_result"
    }
   ],
   "source": [
    "from scipy.stats import zscore\n",
    "import numpy as np\n",
    "z=np.abs(zscore(df))\n",
    "z.shape"
   ]
  },
  {
   "cell_type": "code",
   "execution_count": 26,
   "id": "06eecd6f",
   "metadata": {
    "colab": {
     "base_uri": "https://localhost:8080/"
    },
    "id": "06eecd6f",
    "outputId": "0573b23d-4e56-4f23-a7f8-f0c9822f9f1b"
   },
   "outputs": [
    {
     "name": "stdout",
     "output_type": "stream",
     "text": [
      "(array([ 16, 101], dtype=int64), array([2, 2], dtype=int64))\n"
     ]
    }
   ],
   "source": [
    "threshold=3 #rule of thumb\n",
    "print(np.where(z>3))"
   ]
  },
  {
   "cell_type": "code",
   "execution_count": 27,
   "id": "57a512e6",
   "metadata": {
    "colab": {
     "base_uri": "https://localhost:8080/"
    },
    "id": "57a512e6",
    "outputId": "9188af63-e29b-4242-d5b4-8c2530e9efe5"
   },
   "outputs": [
    {
     "data": {
      "text/plain": [
       "2"
      ]
     },
     "execution_count": 27,
     "metadata": {},
     "output_type": "execute_result"
    }
   ],
   "source": [
    "len(np.where(z>3)[0])"
   ]
  },
  {
   "cell_type": "code",
   "execution_count": 28,
   "id": "9e37f28a",
   "metadata": {
    "colab": {
     "base_uri": "https://localhost:8080/",
     "height": 165
    },
    "id": "9e37f28a",
    "outputId": "9f7ccf62-4628-4d23-90f9-b9890c6c0509"
   },
   "outputs": [
    {
     "data": {
      "text/plain": [
       "TV           0.925305\n",
       "radio        0.900494\n",
       "newspaper    3.841171\n",
       "sales        0.292541\n",
       "Name: 16, dtype: float64"
      ]
     },
     "execution_count": 28,
     "metadata": {},
     "output_type": "execute_result"
    }
   ],
   "source": [
    "z.iloc[16]"
   ]
  },
  {
   "cell_type": "code",
   "execution_count": 29,
   "id": "f4049817",
   "metadata": {
    "colab": {
     "base_uri": "https://localhost:8080/",
     "height": 424
    },
    "id": "f4049817",
    "outputId": "964ef8a7-e077-43c0-89cd-36ed75a9d36a"
   },
   "outputs": [
    {
     "data": {
      "text/html": [
       "<div>\n",
       "<style scoped>\n",
       "    .dataframe tbody tr th:only-of-type {\n",
       "        vertical-align: middle;\n",
       "    }\n",
       "\n",
       "    .dataframe tbody tr th {\n",
       "        vertical-align: top;\n",
       "    }\n",
       "\n",
       "    .dataframe thead th {\n",
       "        text-align: right;\n",
       "    }\n",
       "</style>\n",
       "<table border=\"1\" class=\"dataframe\">\n",
       "  <thead>\n",
       "    <tr style=\"text-align: right;\">\n",
       "      <th></th>\n",
       "      <th>TV</th>\n",
       "      <th>radio</th>\n",
       "      <th>newspaper</th>\n",
       "      <th>sales</th>\n",
       "    </tr>\n",
       "  </thead>\n",
       "  <tbody>\n",
       "    <tr>\n",
       "      <th>0</th>\n",
       "      <td>230.1</td>\n",
       "      <td>37.8</td>\n",
       "      <td>69.2</td>\n",
       "      <td>22.1</td>\n",
       "    </tr>\n",
       "    <tr>\n",
       "      <th>1</th>\n",
       "      <td>44.5</td>\n",
       "      <td>39.3</td>\n",
       "      <td>45.1</td>\n",
       "      <td>10.4</td>\n",
       "    </tr>\n",
       "    <tr>\n",
       "      <th>2</th>\n",
       "      <td>17.2</td>\n",
       "      <td>45.9</td>\n",
       "      <td>69.3</td>\n",
       "      <td>9.3</td>\n",
       "    </tr>\n",
       "    <tr>\n",
       "      <th>3</th>\n",
       "      <td>151.5</td>\n",
       "      <td>41.3</td>\n",
       "      <td>58.5</td>\n",
       "      <td>18.5</td>\n",
       "    </tr>\n",
       "    <tr>\n",
       "      <th>4</th>\n",
       "      <td>180.8</td>\n",
       "      <td>10.8</td>\n",
       "      <td>58.4</td>\n",
       "      <td>12.9</td>\n",
       "    </tr>\n",
       "    <tr>\n",
       "      <th>...</th>\n",
       "      <td>...</td>\n",
       "      <td>...</td>\n",
       "      <td>...</td>\n",
       "      <td>...</td>\n",
       "    </tr>\n",
       "    <tr>\n",
       "      <th>195</th>\n",
       "      <td>38.2</td>\n",
       "      <td>3.7</td>\n",
       "      <td>13.8</td>\n",
       "      <td>7.6</td>\n",
       "    </tr>\n",
       "    <tr>\n",
       "      <th>196</th>\n",
       "      <td>94.2</td>\n",
       "      <td>4.9</td>\n",
       "      <td>8.1</td>\n",
       "      <td>9.7</td>\n",
       "    </tr>\n",
       "    <tr>\n",
       "      <th>197</th>\n",
       "      <td>177.0</td>\n",
       "      <td>9.3</td>\n",
       "      <td>6.4</td>\n",
       "      <td>12.8</td>\n",
       "    </tr>\n",
       "    <tr>\n",
       "      <th>198</th>\n",
       "      <td>283.6</td>\n",
       "      <td>42.0</td>\n",
       "      <td>66.2</td>\n",
       "      <td>25.5</td>\n",
       "    </tr>\n",
       "    <tr>\n",
       "      <th>199</th>\n",
       "      <td>232.1</td>\n",
       "      <td>8.6</td>\n",
       "      <td>8.7</td>\n",
       "      <td>13.4</td>\n",
       "    </tr>\n",
       "  </tbody>\n",
       "</table>\n",
       "<p>198 rows × 4 columns</p>\n",
       "</div>"
      ],
      "text/plain": [
       "        TV  radio  newspaper  sales\n",
       "0    230.1   37.8       69.2   22.1\n",
       "1     44.5   39.3       45.1   10.4\n",
       "2     17.2   45.9       69.3    9.3\n",
       "3    151.5   41.3       58.5   18.5\n",
       "4    180.8   10.8       58.4   12.9\n",
       "..     ...    ...        ...    ...\n",
       "195   38.2    3.7       13.8    7.6\n",
       "196   94.2    4.9        8.1    9.7\n",
       "197  177.0    9.3        6.4   12.8\n",
       "198  283.6   42.0       66.2   25.5\n",
       "199  232.1    8.6        8.7   13.4\n",
       "\n",
       "[198 rows x 4 columns]"
      ]
     },
     "execution_count": 29,
     "metadata": {},
     "output_type": "execute_result"
    }
   ],
   "source": [
    "df_new_z=df[(z<3).all(axis=1)]\n",
    "df_new_z"
   ]
  },
  {
   "cell_type": "code",
   "execution_count": 30,
   "id": "70316d5f",
   "metadata": {
    "colab": {
     "base_uri": "https://localhost:8080/"
    },
    "id": "70316d5f",
    "outputId": "637115ed-ac3e-4174-eab1-d82fa4644402"
   },
   "outputs": [
    {
     "data": {
      "text/plain": [
       "(198, 4)"
      ]
     },
     "execution_count": 30,
     "metadata": {},
     "output_type": "execute_result"
    }
   ],
   "source": [
    "df_new_z.shape"
   ]
  },
  {
   "cell_type": "code",
   "execution_count": 31,
   "id": "2627d02a",
   "metadata": {
    "colab": {
     "base_uri": "https://localhost:8080/"
    },
    "id": "2627d02a",
    "outputId": "e3fea4c4-5e28-4909-ca3a-238ac3f9f309"
   },
   "outputs": [
    {
     "data": {
      "text/plain": [
       "(200, 4)"
      ]
     },
     "execution_count": 31,
     "metadata": {},
     "output_type": "execute_result"
    }
   ],
   "source": [
    "df.shape"
   ]
  },
  {
   "cell_type": "markdown",
   "id": "4f391ad2",
   "metadata": {
    "id": "4f391ad2"
   },
   "source": [
    "# data loss"
   ]
  },
  {
   "cell_type": "code",
   "execution_count": 32,
   "id": "a03c4294",
   "metadata": {
    "colab": {
     "base_uri": "https://localhost:8080/"
    },
    "id": "a03c4294",
    "outputId": "af304e8c-5622-403a-8e74-eb6fbff911eb"
   },
   "outputs": [
    {
     "data": {
      "text/plain": [
       "1.0"
      ]
     },
     "execution_count": 32,
     "metadata": {},
     "output_type": "execute_result"
    }
   ],
   "source": [
    "(200-198)/200*100"
   ]
  },
  {
   "cell_type": "markdown",
   "id": "274e91dd",
   "metadata": {
    "id": "274e91dd"
   },
   "source": [
    "1% data are removed...where outlier is present"
   ]
  },
  {
   "cell_type": "code",
   "execution_count": 33,
   "id": "62887143",
   "metadata": {
    "colab": {
     "base_uri": "https://localhost:8080/"
    },
    "id": "62887143",
    "outputId": "b9e16ea3-7927-4b31-86c4-7214716a6c43"
   },
   "outputs": [
    {
     "data": {
      "text/plain": [
       "TV          -0.069853\n",
       "radio        0.094175\n",
       "newspaper    0.894720\n",
       "sales        0.407571\n",
       "dtype: float64"
      ]
     },
     "execution_count": 33,
     "metadata": {},
     "output_type": "execute_result"
    }
   ],
   "source": [
    "df.skew()"
   ]
  },
  {
   "cell_type": "code",
   "execution_count": 34,
   "id": "e8b02245",
   "metadata": {
    "id": "e8b02245"
   },
   "outputs": [],
   "source": [
    "x=df_new_z.iloc[:,:-1]\n",
    "#target\n",
    "y=df_new_z.iloc[:,-1]"
   ]
  },
  {
   "cell_type": "code",
   "execution_count": 35,
   "id": "379231a0",
   "metadata": {
    "colab": {
     "base_uri": "https://localhost:8080/"
    },
    "id": "379231a0",
    "outputId": "ed2edc26-6ab4-49c9-b528-2e39c618dff1"
   },
   "outputs": [
    {
     "data": {
      "text/plain": [
       "array([[ 0.95598306,  0.9691098 ,  1.6041965 ],\n",
       "       [-1.19200349,  1.04623436,  0.83104401],\n",
       "       [-1.6461253 ,  1.37296802,  1.60705249],\n",
       "       [ 0.14293428,  1.1473316 ,  1.28376774],\n",
       "       [ 0.45645241, -0.73502642,  1.28062154],\n",
       "       [-1.8204008 ,  1.51543955,  1.76610727],\n",
       "       [-1.00349358,  0.70309642, -0.10205346],\n",
       "       [-0.20996049, -0.0876566 , -0.84968895],\n",
       "       [-1.82264543, -1.62948287, -2.09866461],\n",
       "       [ 0.652694  , -1.56152179, -0.22649933],\n",
       "       [-0.88482761, -1.19258569, -0.06553382],\n",
       "       [ 0.80322028,  0.19357553, -1.59608414],\n",
       "       [-1.52567125,  0.82725998,  1.50859232],\n",
       "       [-0.48090308, -1.01613619, -1.23269654],\n",
       "       [ 0.69642374,  0.70856268,  0.86367455],\n",
       "       [ 0.60769456,  1.45886692,  1.1026083 ],\n",
       "       [ 1.44702338,  1.06152278,  1.19771741],\n",
       "       [-0.84304109, -0.02834315, -0.39458775],\n",
       "       [ 0.09676151,  0.18741189, -0.346834  ],\n",
       "       [ 0.84017479,  0.41523303,  1.11921444],\n",
       "       [ 1.02746612, -1.2660875 , -0.10205346],\n",
       "       [-1.72466475, -0.3430802 ,  0.99069777],\n",
       "       [ 0.93826742, -0.27204438,  0.0356758 ],\n",
       "       [-0.93674187, -0.59023588, -0.39458775],\n",
       "       [ 1.27285397, -1.44792482, -0.32336998],\n",
       "       [ 0.04802388,  0.50756488, -0.7740548 ],\n",
       "       [ 1.05376032, -0.28612399, -0.13384051],\n",
       "       [ 1.13797152,  0.38008881, -0.13384051],\n",
       "       [-0.82432769, -0.33590351,  0.66980347],\n",
       "       [ 1.55379249,  0.45008922,  0.76092313],\n",
       "       [-0.29552539, -0.23711359,  0.58357284],\n",
       "       [-0.48458608, -1.71704857,  0.21669702],\n",
       "       [ 1.29846636, -0.06117169, -2.2758464 ],\n",
       "       [-0.50304519, -1.7324148 , -1.21299201],\n",
       "       [ 1.53345233, -1.3771472 , -1.10919482],\n",
       "       [ 1.31077419,  1.27109462, -1.4708598 ],\n",
       "       [-0.77006157,  1.53885314,  0.85283827],\n",
       "       [-1.21308859,  0.35649509,  0.44045973],\n",
       "       [ 0.93531131,  0.96392681,  0.30682057],\n",
       "       [ 0.68018031,  0.08742886,  0.28905461],\n",
       "       [ 0.4165774 ,  0.73579933,  0.58755182],\n",
       "       [ 1.56025605,  0.41523303, -1.93614969],\n",
       "       [ 0.72477076, -0.94246393,  0.04555612],\n",
       "       [-1.50299171,  0.29691633,  0.76465678],\n",
       "       [ 0.39655706,  0.10007132,  0.2845934 ],\n",
       "       [-0.5776425 , -0.81067203,  0.46554742],\n",
       "       [ 1.05181524,  1.15733673, -0.38254334],\n",
       "       [ 0.92742341, -0.35027362,  1.00104316],\n",
       "       [-0.87399682, -0.66162053,  0.51093113],\n",
       "       [ 0.652694  , -1.49718987,  0.41936802],\n",
       "       [-0.44544938, -0.83642883, -1.65023317],\n",
       "       [ 0.82021967,  1.16732335,  0.62310406],\n",
       "       [ 0.47526481,  1.38737344,  1.29005095],\n",
       "       [ 1.27095405,  0.47892195, -0.54515187],\n",
       "       [ 0.6435106 ,  1.53885314,  1.33059751],\n",
       "       [-1.85241088,  0.43850198,  0.6928619 ],\n",
       "       [-0.02694246, -0.11434473, -0.50002298],\n",
       "       [ 0.7640894 ,  1.54819296,  0.54749686],\n",
       "       [ 0.76308359,  0.51896989, -1.03801781],\n",
       "       [-1.06021399, -1.64357954, -0.21538949],\n",
       "       [ 1.25764412,  1.21698291,  1.16198054],\n",
       "       [ 1.04597746, -0.37195568,  0.08950799],\n",
       "       [-0.41751811,  0.52466135, -1.11833294],\n",
       "       [-0.08464536,  1.22192414,  0.16568658],\n",
       "       [-0.84572231, -0.8624742 , -2.12148202],\n",
       "       [-1.39528628,  0.23035564, -1.86501   ],\n",
       "       [ 0.00785902, -0.44537697, -0.96167639],\n",
       "       [ 1.02746612,  0.40355071, -0.89675177],\n",
       "       [ 0.8242145 ,  1.27598779,  0.08466485],\n",
       "       [ 0.64555228,  0.58117899,  0.58755182],\n",
       "       [-0.33228945, -0.46028254,  0.29350789],\n",
       "       [-1.47377148,  0.71402259, -0.33506848],\n",
       "       [-0.10400761, -1.202897  ,  0.27564704],\n",
       "       [ 0.79019725,  0.23035564, -0.73744518],\n",
       "       [-1.65184774,  1.26619715,  2.13937255],\n",
       "       [-1.46187563, -1.70192244, -0.25453031],\n",
       "       [-0.20647326,  0.46164538, -0.65947105],\n",
       "       [-1.89822804,  0.54169198, -1.02934918],\n",
       "       [-0.25902053, -1.00678392, -0.12319395],\n",
       "       [-0.74778651,  0.35649509, -0.16609367],\n",
       "       [ 1.05084254, -1.3771472 ,  0.51501874],\n",
       "       [-0.76218508, -0.04143812,  0.32885333],\n",
       "       [-0.85377796,  1.30525722,  0.46138274],\n",
       "       [ 0.79119975,  1.23179329,  0.38526098],\n",
       "       [ 0.58509675, -0.16835339,  1.50271112],\n",
       "       [-0.74909326,  0.40355071, -0.53863938],\n",
       "       [-0.32158879,  1.11216604,  1.42831665],\n",
       "       [-0.59523084,  0.28489586,  1.72217946],\n",
       "       [-0.33228945,  1.4636021 ,  1.05224719],\n",
       "       [-0.04837336, -1.28768913, -1.03801781],\n",
       "       [-1.44333425, -1.71704857,  0.35069626],\n",
       "       [ 0.8331959 ,  0.74122791,  1.29945293],\n",
       "       [ 1.15818339,  0.90131402,  1.69166052],\n",
       "       [-0.36093577, -0.4827855 , -0.90472726],\n",
       "       [ 0.2709304 ,  0.63699688,  1.1026083 ],\n",
       "       [ 0.63022667, -1.44792482, -1.36815587],\n",
       "       [ 0.49923329,  0.00418624, -0.18240095],\n",
       "       [ 1.52419364,  1.19717332,  1.04546953],\n",
       "       [-0.0382122 ,  1.16732335,  0.86006693],\n",
       "       [ 0.87994389, -1.35429375,  0.99759864],\n",
       "       [ 1.43581778, -0.79365568, -0.21538949],\n",
       "       [ 0.53038105, -0.25104051, -0.41889554],\n",
       "       [ 1.03526502,  0.78443582, -1.43568966],\n",
       "       [-0.00783277,  1.39695704,  1.29945293],\n",
       "       [-1.50472569, -0.71852874,  0.20289058],\n",
       "       [-0.56887482, -1.92277996, -0.11788987],\n",
       "       [-1.72669682, -1.90334954,  0.00577961],\n",
       "       [ 1.20134779,  0.36830859, -1.41277956],\n",
       "       [ 0.91360226, -0.96064272,  1.22025052],\n",
       "       [ 1.06930594,  0.97946003, -0.11788987],\n",
       "       [ 0.40288531, -0.37921745, -1.83137048],\n",
       "       [ 0.75201155, -0.02181365, -0.9207956 ],\n",
       "       [-0.72433929,  1.41607663,  0.41512911],\n",
       "       [-0.76480878,  0.82192754,  1.09594084],\n",
       "       [ 0.00673953, -0.46028254,  0.00577961],\n",
       "       [-0.74778651, -1.83055994, -0.61831443],\n",
       "       [-0.14637764,  0.92227141,  1.87892616],\n",
       "       [-1.60487761, -0.33590351, -0.16609367],\n",
       "       [ 0.03020546,  0.36240602,  0.87087647],\n",
       "       [-1.61600701,  0.04924266,  1.01820721],\n",
       "       [ 0.89579959, -1.58822992, -0.56482448],\n",
       "       [-0.17634363,  0.8005392 , -0.78891695],\n",
       "       [ 0.95008184,  0.67566908,  1.7442111 ],\n",
       "       [-0.60910057, -0.65359273,  0.02077604],\n",
       "       [-1.84082856,  1.02577993,  1.02504572],\n",
       "       [-0.69844865, -1.98495808, -1.04673537],\n",
       "       [ 0.8590884 ,  1.52012963, -1.70718676],\n",
       "       [-0.97412104, -0.63761079,  0.75718457],\n",
       "       [-2.03323356,  1.06152278, -1.09108448],\n",
       "       [ 1.2946762 , -1.52253007,  0.7534411 ],\n",
       "       [-1.82715302,  0.38596655, -1.88228781],\n",
       "       [ 0.85411524,  0.74122791,  0.83104401],\n",
       "       [-1.30867028,  1.0103861 ,  1.49976669],\n",
       "       [-1.13560137,  1.42561279, -1.10919482],\n",
       "       [-1.49434751,  1.03090107, -1.03801781],\n",
       "       [ 1.37490294,  0.48466558,  1.32128542],\n",
       "       [-1.21460127,  0.30890141, -0.2658475 ],\n",
       "       [ 0.49923329,  1.27598779, -1.95484304],\n",
       "       [-0.78718324, -0.2650278 , -0.75199725],\n",
       "       [ 0.59023843,  0.84322253,  1.78244184],\n",
       "       [ 0.86107685,  0.72492349,  0.55555544],\n",
       "       [-0.39456576, -1.202897  ,  0.41088327],\n",
       "       [-0.49688394, -0.42315979,  0.59549238],\n",
       "       [ 0.01904252, -1.65786243, -1.06432036],\n",
       "       [ 1.05376032, -1.04445327, -1.09108448],\n",
       "       [ 1.08385578,  1.52012963,  0.80172759],\n",
       "       [-1.29143203,  1.09702388, -0.82664429],\n",
       "       [-1.1890052 ,  0.30291327, -0.26018131],\n",
       "       [ 1.44048829, -0.49032576,  0.51910011],\n",
       "       [-0.20066619, -0.94246393,  0.95944652],\n",
       "       [ 0.63022667,  0.15022331, -0.65947105],\n",
       "       [ 0.35634693,  1.06660903,  0.54749686],\n",
       "       [ 0.52934487,  0.01065705, -1.02072873],\n",
       "       [-1.93163495, -0.66967326, -1.39027462],\n",
       "       [-0.52529469,  1.25638925,  1.02162839],\n",
       "       [ 0.12428563, -1.74803521, -0.06036496],\n",
       "       [-1.75555556,  0.92227141,  0.83468776],\n",
       "       [-0.07782712, -0.16835339,  0.41936802],\n",
       "       [ 0.36906953, -0.18883181,  0.24861364],\n",
       "       [-0.62808655,  0.86442562,  0.98031676],\n",
       "       [ 0.5355598 , -0.18883181,  0.00577961],\n",
       "       [ 0.2730788 ,  0.91704026, -1.21299201],\n",
       "       [-0.24495734, -0.43054692, -1.42418272],\n",
       "       [ 0.99913782, -1.46007371,  2.02414625],\n",
       "       [-1.63286723,  0.95873855, -0.20433701],\n",
       "       [ 0.72376009, -1.25539136, -0.32921092],\n",
       "       [ 0.81022423,  0.16886223,  1.25534066],\n",
       "       [ 1.47405264, -0.75163452, -1.31443661],\n",
       "       [-1.11073781, -0.66967326, -0.38855655],\n",
       "       [ 0.28381064, -0.00229617,  0.91372099],\n",
       "       [-1.60118681, -0.05458158, -0.47470116],\n",
       "       [ 0.32550506, -1.06355551, -0.75931882],\n",
       "       [ 0.87994389, -1.46007371, -0.73744518],\n",
       "       [ 1.40493806,  1.51543955,  0.70812926],\n",
       "       [ 1.13411664,  0.55865764, -0.27722588],\n",
       "       [ 0.34466429, -0.99747386,  0.44465771],\n",
       "       [ 1.40306351, -1.60181548, -0.09155822],\n",
       "       [ 0.29559622, -0.80214864, -0.43732278],\n",
       "       [ 0.19855946, -1.56152179, -1.12752759],\n",
       "       [ 0.8411713 , -1.23420066,  0.09434122],\n",
       "       [-1.02181379, -1.202897  ,  0.20289058],\n",
       "       [ 1.50472337,  1.23179329,  1.67770049],\n",
       "       [ 1.18602318,  0.02356422,  0.21669702],\n",
       "       [ 0.70554619,  1.33437513, -0.31754553],\n",
       "       [ 0.01009737, -1.62948287,  0.05539471],\n",
       "       [ 0.56346396,  0.47317073, -0.40063711],\n",
       "       [ 1.48986416, -0.49032576, -1.63644784],\n",
       "       [-1.61787038, -0.62965614, -0.1073197 ],\n",
       "       [-1.26812741,  1.13730782, -1.3791681 ],\n",
       "       [-0.75956316, -0.73502642, -1.3572358 ],\n",
       "       [-1.6461253 , -1.3771472 ,  0.28905461],\n",
       "       [ 0.30843016,  1.18226883, -1.65023317],\n",
       "       [ 0.12318696,  0.85383548, -1.3572358 ],\n",
       "       [-1.28831146, -1.42394128, -0.68743455],\n",
       "       [-0.52157887, -1.28768913, -1.14609038],\n",
       "       [ 0.4165774 , -0.8624742 , -1.31443661],\n",
       "       [ 1.4675349 ,  1.18226883,  1.51739504],\n",
       "       [ 0.97562509, -0.92443675, -1.09108448]])"
      ]
     },
     "execution_count": 35,
     "metadata": {},
     "output_type": "execute_result"
    }
   ],
   "source": [
    "from sklearn.preprocessing import power_transform\n",
    "x=power_transform(x,method='yeo-johnson')\n",
    "x"
   ]
  },
  {
   "cell_type": "code",
   "execution_count": 36,
   "id": "b634f2ce",
   "metadata": {
    "colab": {
     "base_uri": "https://localhost:8080/",
     "height": 165
    },
    "id": "b634f2ce",
    "outputId": "b9b2ad6e-c2dd-4302-c1af-9c6343c4be90"
   },
   "outputs": [
    {
     "ename": "AttributeError",
     "evalue": "'numpy.ndarray' object has no attribute 'skew'",
     "output_type": "error",
     "traceback": [
      "\u001b[1;31m---------------------------------------------------------------------------\u001b[0m",
      "\u001b[1;31mAttributeError\u001b[0m                            Traceback (most recent call last)",
      "\u001b[1;32m~\\AppData\\Local\\Temp/ipykernel_25544/3673655344.py\u001b[0m in \u001b[0;36m<module>\u001b[1;34m\u001b[0m\n\u001b[1;32m----> 1\u001b[1;33m \u001b[0mx\u001b[0m\u001b[1;33m.\u001b[0m\u001b[0mskew\u001b[0m\u001b[1;33m(\u001b[0m\u001b[1;33m)\u001b[0m\u001b[1;33m\u001b[0m\u001b[1;33m\u001b[0m\u001b[0m\n\u001b[0m",
      "\u001b[1;31mAttributeError\u001b[0m: 'numpy.ndarray' object has no attribute 'skew'"
     ]
    }
   ],
   "source": [
    "x.skew()"
   ]
  },
  {
   "cell_type": "markdown",
   "id": "76a40237",
   "metadata": {
    "id": "76a40237"
   },
   "source": [
    "# Separating the columns into feature and target"
   ]
  },
  {
   "cell_type": "code",
   "execution_count": 37,
   "id": "bc32ba0d",
   "metadata": {
    "id": "bc32ba0d"
   },
   "outputs": [],
   "source": [
    "features=df.drop(\"sales\",axis=1)\n",
    "target=df[\"sales\"]"
   ]
  },
  {
   "cell_type": "markdown",
   "id": "f0b68452",
   "metadata": {
    "id": "f0b68452"
   },
   "source": [
    "# Sacling the data using MIN MAX Scaler:"
   ]
  },
  {
   "cell_type": "code",
   "execution_count": 38,
   "id": "562cac32",
   "metadata": {
    "id": "562cac32"
   },
   "outputs": [],
   "source": [
    "from sklearn.preprocessing import MinMaxScaler\n",
    "mns=MinMaxScaler()\n",
    "from sklearn.linear_model import LinearRegression\n",
    "lr=LinearRegression()\n",
    "from sklearn.metrics import r2_score\n",
    "from sklearn.model_selection import train_test_split"
   ]
  },
  {
   "cell_type": "code",
   "execution_count": 39,
   "id": "2b97b22f",
   "metadata": {
    "id": "2b97b22f"
   },
   "outputs": [],
   "source": [
    "import warnings\n",
    "warnings.filterwarnings('ignore')"
   ]
  },
  {
   "cell_type": "code",
   "execution_count": 40,
   "id": "0fc5894b",
   "metadata": {
    "colab": {
     "base_uri": "https://localhost:8080/"
    },
    "id": "0fc5894b",
    "outputId": "1f336cb3-e1e5-4975-e725-7ae5af547cfc"
   },
   "outputs": [
    {
     "name": "stdout",
     "output_type": "stream",
     "text": [
      "At random state0,the training accuracy is :- 0.9067114990146383\n",
      "At random state0,the training accuracy is :- 0.8601145185017868\n",
      "\n",
      "\n",
      "At random state1,the training accuracy is :- 0.8959372632325174\n",
      "At random state1,the training accuracy is :- 0.8927605914615383\n",
      "\n",
      "\n",
      "At random state2,the training accuracy is :- 0.9151707412454462\n",
      "At random state2,the training accuracy is :- 0.7575894500772719\n",
      "\n",
      "\n",
      "At random state3,the training accuracy is :- 0.8930288385772915\n",
      "At random state3,the training accuracy is :- 0.9138375011080567\n",
      "\n",
      "\n",
      "At random state4,the training accuracy is :- 0.8911672911176578\n",
      "At random state4,the training accuracy is :- 0.9085774752313167\n",
      "\n",
      "\n",
      "At random state5,the training accuracy is :- 0.8956962280033928\n",
      "At random state5,the training accuracy is :- 0.8984204533332628\n",
      "\n",
      "\n",
      "At random state6,the training accuracy is :- 0.8915418760966582\n",
      "At random state6,the training accuracy is :- 0.9224333473922028\n",
      "\n",
      "\n",
      "At random state7,the training accuracy is :- 0.8929164670647455\n",
      "At random state7,the training accuracy is :- 0.9095550600904052\n",
      "\n",
      "\n",
      "At random state8,the training accuracy is :- 0.9088025724048052\n",
      "At random state8,the training accuracy is :- 0.8460595754263388\n",
      "\n",
      "\n",
      "At random state9,the training accuracy is :- 0.8897851719766416\n",
      "At random state9,the training accuracy is :- 0.9256258465335008\n",
      "\n",
      "\n",
      "At random state10,the training accuracy is :- 0.9209087553499528\n",
      "At random state10,the training accuracy is :- 0.8353672324670592\n",
      "\n",
      "\n",
      "At random state11,the training accuracy is :- 0.9111583949248847\n",
      "At random state11,the training accuracy is :- 0.8449174816183896\n",
      "\n",
      "\n",
      "At random state12,the training accuracy is :- 0.891451009902517\n",
      "At random state12,the training accuracy is :- 0.9125583321991083\n",
      "\n",
      "\n",
      "At random state13,the training accuracy is :- 0.8869244310370576\n",
      "At random state13,the training accuracy is :- 0.9308589334107374\n",
      "\n",
      "\n",
      "At random state14,the training accuracy is :- 0.908635420499295\n",
      "At random state14,the training accuracy is :- 0.8549663199763199\n",
      "\n",
      "\n",
      "At random state15,the training accuracy is :- 0.8935846767022744\n",
      "At random state15,the training accuracy is :- 0.9064939179490467\n",
      "\n",
      "\n",
      "At random state16,the training accuracy is :- 0.892634156753275\n",
      "At random state16,the training accuracy is :- 0.91864253803112\n",
      "\n",
      "\n",
      "At random state17,the training accuracy is :- 0.911643850109681\n",
      "At random state17,the training accuracy is :- 0.8266375240641093\n",
      "\n",
      "\n",
      "At random state18,the training accuracy is :- 0.9058350355666276\n",
      "At random state18,the training accuracy is :- 0.8691428348137913\n",
      "\n",
      "\n",
      "At random state19,the training accuracy is :- 0.8936653113157833\n",
      "At random state19,the training accuracy is :- 0.903410880167606\n",
      "\n",
      "\n",
      "At random state20,the training accuracy is :- 0.8939415029759354\n",
      "At random state20,the training accuracy is :- 0.9032049399335234\n",
      "\n",
      "\n",
      "At random state21,the training accuracy is :- 0.8876272528162706\n",
      "At random state21,the training accuracy is :- 0.9220737408493859\n",
      "\n",
      "\n",
      "At random state22,the training accuracy is :- 0.8899965075887379\n",
      "At random state22,the training accuracy is :- 0.9182667532378174\n",
      "\n",
      "\n",
      "At random state23,the training accuracy is :- 0.8921659364123988\n",
      "At random state23,the training accuracy is :- 0.910204221189731\n",
      "\n",
      "\n",
      "At random state24,the training accuracy is :- 0.8946529864968562\n",
      "At random state24,the training accuracy is :- 0.9043170168345027\n",
      "\n",
      "\n",
      "At random state25,the training accuracy is :- 0.9007883778149751\n",
      "At random state25,the training accuracy is :- 0.8738569641880866\n",
      "\n",
      "\n",
      "At random state26,the training accuracy is :- 0.8998325917728893\n",
      "At random state26,the training accuracy is :- 0.8756915597547017\n",
      "\n",
      "\n",
      "At random state27,the training accuracy is :- 0.8947281937728894\n",
      "At random state27,the training accuracy is :- 0.9064360707520688\n",
      "\n",
      "\n",
      "At random state28,the training accuracy is :- 0.899682102176431\n",
      "At random state28,the training accuracy is :- 0.884139581646469\n",
      "\n",
      "\n",
      "At random state29,the training accuracy is :- 0.8896422572594603\n",
      "At random state29,the training accuracy is :- 0.9124795091328944\n",
      "\n",
      "\n",
      "At random state30,the training accuracy is :- 0.8933633451302291\n",
      "At random state30,the training accuracy is :- 0.9080112550671722\n",
      "\n",
      "\n",
      "At random state31,the training accuracy is :- 0.8859036462267695\n",
      "At random state31,the training accuracy is :- 0.9284346926567392\n",
      "\n",
      "\n",
      "At random state32,the training accuracy is :- 0.9172972779129942\n",
      "At random state32,the training accuracy is :- 0.7768844650932812\n",
      "\n",
      "\n",
      "At random state33,the training accuracy is :- 0.8962848476126537\n",
      "At random state33,the training accuracy is :- 0.8937288845297463\n",
      "\n",
      "\n",
      "At random state34,the training accuracy is :- 0.8970495535067476\n",
      "At random state34,the training accuracy is :- 0.8925087896627704\n",
      "\n",
      "\n",
      "At random state35,the training accuracy is :- 0.9149802728230204\n",
      "At random state35,the training accuracy is :- 0.7864906125568902\n",
      "\n",
      "\n",
      "At random state36,the training accuracy is :- 0.8887387365244299\n",
      "At random state36,the training accuracy is :- 0.9265307491686011\n",
      "\n",
      "\n",
      "At random state37,the training accuracy is :- 0.8997277119781726\n",
      "At random state37,the training accuracy is :- 0.8837033479022514\n",
      "\n",
      "\n",
      "At random state38,the training accuracy is :- 0.8972213778715169\n",
      "At random state38,the training accuracy is :- 0.8927131887797297\n",
      "\n",
      "\n",
      "At random state39,the training accuracy is :- 0.8989586369412048\n",
      "At random state39,the training accuracy is :- 0.8789549979127556\n",
      "\n",
      "\n",
      "At random state40,the training accuracy is :- 0.920068668721091\n",
      "At random state40,the training accuracy is :- 0.798265226183108\n",
      "\n",
      "\n",
      "At random state41,the training accuracy is :- 0.9006901704189824\n",
      "At random state41,the training accuracy is :- 0.8819813651740449\n",
      "\n",
      "\n",
      "At random state42,the training accuracy is :- 0.8957008271017817\n",
      "At random state42,the training accuracy is :- 0.899438024100912\n",
      "\n",
      "\n",
      "At random state43,the training accuracy is :- 0.888477223981934\n",
      "At random state43,the training accuracy is :- 0.9286102071081018\n",
      "\n",
      "\n",
      "At random state44,the training accuracy is :- 0.9065895163213828\n",
      "At random state44,the training accuracy is :- 0.8310290458396923\n",
      "\n",
      "\n",
      "At random state45,the training accuracy is :- 0.895947647524022\n",
      "At random state45,the training accuracy is :- 0.8955882331233609\n",
      "\n",
      "\n",
      "At random state46,the training accuracy is :- 0.9035142166671978\n",
      "At random state46,the training accuracy is :- 0.8508891379360346\n",
      "\n",
      "\n",
      "At random state47,the training accuracy is :- 0.8986105026216175\n",
      "At random state47,the training accuracy is :- 0.8861176124930538\n",
      "\n",
      "\n",
      "At random state48,the training accuracy is :- 0.8905303930227864\n",
      "At random state48,the training accuracy is :- 0.9192264895105909\n",
      "\n",
      "\n",
      "At random state49,the training accuracy is :- 0.9138424680320801\n",
      "At random state49,the training accuracy is :- 0.8236013350803586\n",
      "\n",
      "\n",
      "At random state50,the training accuracy is :- 0.9013713199191987\n",
      "At random state50,the training accuracy is :- 0.847551325142633\n",
      "\n",
      "\n",
      "At random state51,the training accuracy is :- 0.8935562677321687\n",
      "At random state51,the training accuracy is :- 0.9079126096145103\n",
      "\n",
      "\n",
      "At random state52,the training accuracy is :- 0.9018280272898133\n",
      "At random state52,the training accuracy is :- 0.8811159773607996\n",
      "\n",
      "\n",
      "At random state53,the training accuracy is :- 0.8887382038237429\n",
      "At random state53,the training accuracy is :- 0.9255679198924357\n",
      "\n",
      "\n",
      "At random state54,the training accuracy is :- 0.8919832932654931\n",
      "At random state54,the training accuracy is :- 0.9175053931302266\n",
      "\n",
      "\n",
      "At random state55,the training accuracy is :- 0.8946672493883487\n",
      "At random state55,the training accuracy is :- 0.9017603460127573\n",
      "\n",
      "\n",
      "At random state56,the training accuracy is :- 0.8989109930720287\n",
      "At random state56,the training accuracy is :- 0.8881081877827507\n",
      "\n",
      "\n",
      "At random state57,the training accuracy is :- 0.8825580314985149\n",
      "At random state57,the training accuracy is :- 0.9407051178510067\n",
      "\n",
      "\n",
      "At random state58,the training accuracy is :- 0.912712289434702\n",
      "At random state58,the training accuracy is :- 0.8406715244241625\n",
      "\n",
      "\n",
      "At random state59,the training accuracy is :- 0.8893082812955636\n",
      "At random state59,the training accuracy is :- 0.9251177591187607\n",
      "\n",
      "\n",
      "At random state60,the training accuracy is :- 0.8924386252509565\n",
      "At random state60,the training accuracy is :- 0.9099045150327533\n",
      "\n",
      "\n",
      "At random state61,the training accuracy is :- 0.8993442759744172\n",
      "At random state61,the training accuracy is :- 0.8801295028531632\n",
      "\n",
      "\n",
      "At random state62,the training accuracy is :- 0.9119756650926772\n",
      "At random state62,the training accuracy is :- 0.8417719904234857\n",
      "\n",
      "\n",
      "At random state63,the training accuracy is :- 0.8947112911514465\n",
      "At random state63,the training accuracy is :- 0.9039175428258768\n",
      "\n",
      "\n",
      "At random state64,the training accuracy is :- 0.8977794992748883\n",
      "At random state64,the training accuracy is :- 0.8818211467861733\n",
      "\n",
      "\n",
      "At random state65,the training accuracy is :- 0.8969574133232423\n",
      "At random state65,the training accuracy is :- 0.8941749859375303\n",
      "\n",
      "\n",
      "At random state66,the training accuracy is :- 0.8985647494060172\n",
      "At random state66,the training accuracy is :- 0.8898022957140044\n",
      "\n",
      "\n",
      "At random state67,the training accuracy is :- 0.899436698387886\n",
      "At random state67,the training accuracy is :- 0.8820468786272048\n",
      "\n",
      "\n",
      "At random state68,the training accuracy is :- 0.9001781108442838\n",
      "At random state68,the training accuracy is :- 0.869032140309382\n",
      "\n",
      "\n",
      "At random state69,the training accuracy is :- 0.8870175330531669\n",
      "At random state69,the training accuracy is :- 0.923927034148313\n",
      "\n",
      "\n",
      "At random state70,the training accuracy is :- 0.8862312435968529\n",
      "At random state70,the training accuracy is :- 0.9260798727325857\n",
      "\n",
      "\n",
      "At random state71,the training accuracy is :- 0.9163886175032457\n",
      "At random state71,the training accuracy is :- 0.8246989403826483\n",
      "\n",
      "\n",
      "At random state72,the training accuracy is :- 0.8937422087162026\n",
      "At random state72,the training accuracy is :- 0.9072541868212964\n",
      "\n",
      "\n",
      "At random state73,the training accuracy is :- 0.9077573496620701\n",
      "At random state73,the training accuracy is :- 0.8412998907053817\n",
      "\n",
      "\n",
      "At random state74,the training accuracy is :- 0.8979415340515895\n",
      "At random state74,the training accuracy is :- 0.8806020302645325\n",
      "\n",
      "\n",
      "At random state75,the training accuracy is :- 0.8943141208860873\n",
      "At random state75,the training accuracy is :- 0.9077086876495714\n",
      "\n",
      "\n",
      "At random state76,the training accuracy is :- 0.9092025789360757\n",
      "At random state76,the training accuracy is :- 0.7535174994730748\n",
      "\n",
      "\n",
      "At random state77,the training accuracy is :- 0.8859758983122314\n",
      "At random state77,the training accuracy is :- 0.937880163249318\n",
      "\n",
      "\n",
      "At random state78,the training accuracy is :- 0.8957285947454089\n",
      "At random state78,the training accuracy is :- 0.9026908232907813\n",
      "\n",
      "\n",
      "At random state79,the training accuracy is :- 0.8917194183285055\n",
      "At random state79,the training accuracy is :- 0.9047106228248689\n",
      "\n",
      "\n",
      "At random state80,the training accuracy is :- 0.9161683973913906\n",
      "At random state80,the training accuracy is :- 0.8070473986760942\n",
      "\n",
      "\n",
      "At random state81,the training accuracy is :- 0.9033802332142854\n",
      "At random state81,the training accuracy is :- 0.862042389496714\n",
      "\n",
      "\n",
      "At random state82,the training accuracy is :- 0.9154244887223795\n",
      "At random state82,the training accuracy is :- 0.801472714093516\n",
      "\n",
      "\n",
      "At random state83,the training accuracy is :- 0.8840310976077721\n",
      "At random state83,the training accuracy is :- 0.9373350368424965\n",
      "\n",
      "\n",
      "At random state84,the training accuracy is :- 0.8951392078054552\n",
      "At random state84,the training accuracy is :- 0.9007597814614811\n",
      "\n",
      "\n",
      "At random state85,the training accuracy is :- 0.9086027174680293\n",
      "At random state85,the training accuracy is :- 0.8439638394828848\n",
      "\n",
      "\n",
      "At random state86,the training accuracy is :- 0.8941525565676501\n",
      "At random state86,the training accuracy is :- 0.9100622221201642\n",
      "\n",
      "\n",
      "At random state87,the training accuracy is :- 0.9118983221676124\n",
      "At random state87,the training accuracy is :- 0.7626125810244506\n",
      "\n",
      "\n",
      "At random state88,the training accuracy is :- 0.9095202869396248\n",
      "At random state88,the training accuracy is :- 0.8402068643199275\n",
      "\n",
      "\n",
      "At random state89,the training accuracy is :- 0.900006853668257\n",
      "At random state89,the training accuracy is :- 0.876306336753169\n",
      "\n",
      "\n",
      "At random state90,the training accuracy is :- 0.9031056838494878\n",
      "At random state90,the training accuracy is :- 0.8515399308497917\n",
      "\n",
      "\n",
      "At random state91,the training accuracy is :- 0.8873766899072165\n",
      "At random state91,the training accuracy is :- 0.9042137225502287\n",
      "\n",
      "\n",
      "At random state92,the training accuracy is :- 0.8791722270470883\n",
      "At random state92,the training accuracy is :- 0.9519707195109461\n",
      "\n",
      "\n",
      "At random state93,the training accuracy is :- 0.8929605913041914\n",
      "At random state93,the training accuracy is :- 0.9117655020936757\n",
      "\n",
      "\n",
      "At random state94,the training accuracy is :- 0.9084398174091196\n",
      "At random state94,the training accuracy is :- 0.8559316851679385\n",
      "\n",
      "\n",
      "At random state95,the training accuracy is :- 0.8935659928494455\n",
      "At random state95,the training accuracy is :- 0.8951810793790587\n",
      "\n",
      "\n"
     ]
    },
    {
     "name": "stdout",
     "output_type": "stream",
     "text": [
      "At random state96,the training accuracy is :- 0.9035998291188063\n",
      "At random state96,the training accuracy is :- 0.8595641556662492\n",
      "\n",
      "\n",
      "At random state97,the training accuracy is :- 0.8900751965631104\n",
      "At random state97,the training accuracy is :- 0.9118128867084085\n",
      "\n",
      "\n",
      "At random state98,the training accuracy is :- 0.8819661469883454\n",
      "At random state98,the training accuracy is :- 0.9400331814664701\n",
      "\n",
      "\n",
      "At random state99,the training accuracy is :- 0.8906288862925659\n",
      "At random state99,the training accuracy is :- 0.9200846680148507\n",
      "\n",
      "\n"
     ]
    }
   ],
   "source": [
    "for i in range(0,100):\n",
    "    features_train,features_test,target_train,target_test=train_test_split(features,target,test_size=0.2,random_state=i)\n",
    "    lr.fit(features_train,target_train)\n",
    "    pred_train=lr.predict(features_train)\n",
    "    pred_test=lr.predict(features_test)\n",
    "    print(f\"At random state{i},the training accuracy is :- {r2_score(target_train,pred_train)}\")\n",
    "    print(f\"At random state{i},the training accuracy is :- {r2_score(target_test,pred_test)}\")\n",
    "    print(\"\\n\")    \n",
    "    "
   ]
  },
  {
   "cell_type": "code",
   "execution_count": 41,
   "id": "dd31825b",
   "metadata": {
    "id": "dd31825b"
   },
   "outputs": [],
   "source": [
    "features_train,features_test,target_train,target_test=train_test_split(features,target,test_size=0.2,random_state=12)"
   ]
  },
  {
   "cell_type": "code",
   "execution_count": 42,
   "id": "532dbdb5",
   "metadata": {
    "colab": {
     "base_uri": "https://localhost:8080/"
    },
    "id": "532dbdb5",
    "outputId": "2146f3f5-fa65-4d69-da7b-1e842a6fdb05"
   },
   "outputs": [
    {
     "data": {
      "text/plain": [
       "LinearRegression()"
      ]
     },
     "execution_count": 42,
     "metadata": {},
     "output_type": "execute_result"
    }
   ],
   "source": [
    "lr.fit(features_train,target_train)"
   ]
  },
  {
   "cell_type": "code",
   "execution_count": 43,
   "id": "59626779",
   "metadata": {
    "id": "59626779"
   },
   "outputs": [],
   "source": [
    "pred_test=lr.predict(features_test)"
   ]
  },
  {
   "cell_type": "code",
   "execution_count": 44,
   "id": "c2633239",
   "metadata": {
    "colab": {
     "base_uri": "https://localhost:8080/"
    },
    "id": "c2633239",
    "outputId": "de42fe83-189a-4e2d-c5ef-e4f679bb13f8"
   },
   "outputs": [
    {
     "name": "stdout",
     "output_type": "stream",
     "text": [
      "0.9125583321991083\n"
     ]
    }
   ],
   "source": [
    "print(r2_score(target_test,pred_test))"
   ]
  },
  {
   "cell_type": "markdown",
   "id": "639e5d21",
   "metadata": {
    "id": "639e5d21"
   },
   "source": [
    "# Cross valiidation of the model"
   ]
  },
  {
   "cell_type": "code",
   "execution_count": 45,
   "id": "4dcfa582",
   "metadata": {
    "colab": {
     "base_uri": "https://localhost:8080/"
    },
    "id": "4dcfa582",
    "outputId": "59ee7d87-1f2e-4632-f661-47bf7f2c19c7"
   },
   "outputs": [
    {
     "name": "stdout",
     "output_type": "stream",
     "text": [
      "at cross fold2 the cross score is 0.8908473589845056 and accuracy score for training is -1.0998635836807025 and accuracy score for testing0.9125583321991083\n",
      "\n",
      "\n",
      "at cross fold3 the cross score is 0.8916464591145559 and accuracy score for training is -1.0998635836807025 and accuracy score for testing0.9125583321991083\n",
      "\n",
      "\n",
      "at cross fold4 the cross score is 0.8900070660549507 and accuracy score for training is -1.0998635836807025 and accuracy score for testing0.9125583321991083\n",
      "\n",
      "\n",
      "at cross fold5 the cross score is 0.8871063495438436 and accuracy score for training is -1.0998635836807025 and accuracy score for testing0.9125583321991083\n",
      "\n",
      "\n",
      "at cross fold6 the cross score is 0.8899208882186672 and accuracy score for training is -1.0998635836807025 and accuracy score for testing0.9125583321991083\n",
      "\n",
      "\n",
      "at cross fold7 the cross score is 0.8859930219823539 and accuracy score for training is -1.0998635836807025 and accuracy score for testing0.9125583321991083\n",
      "\n",
      "\n",
      "at cross fold8 the cross score is 0.8826686689919152 and accuracy score for training is -1.0998635836807025 and accuracy score for testing0.9125583321991083\n",
      "\n",
      "\n",
      "at cross fold9 the cross score is 0.8822728227103587 and accuracy score for training is -1.0998635836807025 and accuracy score for testing0.9125583321991083\n",
      "\n",
      "\n"
     ]
    }
   ],
   "source": [
    "Train_accuracy=r2_score(target_train,pred_train)\n",
    "Test_accuracy=r2_score(target_test,pred_test)\n",
    "from sklearn.model_selection import cross_val_score\n",
    "for j in range(2,10):\n",
    "    cv_score=cross_val_score(lr,features,target,cv=j)\n",
    "    cv_mean=cv_score.mean()\n",
    "    print(f\"at cross fold{j} the cross score is {cv_mean} and accuracy score for training is {Train_accuracy} and accuracy score for testing{Test_accuracy}\")\n",
    "    print(\"\\n\")"
   ]
  },
  {
   "cell_type": "code",
   "execution_count": 46,
   "id": "47ffb6eb",
   "metadata": {
    "colab": {
     "base_uri": "https://localhost:8080/",
     "height": 412
    },
    "id": "47ffb6eb",
    "outputId": "6fcecd4e-d6c7-487b-ea1d-af4717aa9952"
   },
   "outputs": [
    {
     "data": {
      "image/png": "[encoded data removed]",
      "text/plain": [
       "<Figure size 576x432 with 1 Axes>"
      ]
     },
     "metadata": {
      "needs_background": "light"
     },
     "output_type": "display_data"
    }
   ],
   "source": [
    "import matplotlib.pyplot as plt\n",
    "plt.figure(figsize=(8,6))\n",
    "plt.scatter(x=target_test,y=pred_test,color='g')\n",
    "plt.plot(target_test,target_test,color='b')\n",
    "plt.xlabel('Actual charges',fontsize=14)\n",
    "plt.ylabel('Predicted charges',fontsize=18)\n",
    "plt.title('Linear Regression',fontsize=18)\n",
    "plt.show()"
   ]
  },
  {
   "cell_type": "code",
   "execution_count": null,
   "id": "132a949e",
   "metadata": {
    "id": "132a949e"
   },
   "outputs": [],
   "source": []
  },
  {
   "cell_type": "code",
   "execution_count": null,
   "id": "ebbbd7a9",
   "metadata": {
    "id": "ebbbd7a9"
   },
   "outputs": [],
   "source": []
  },
  {
   "cell_type": "code",
   "execution_count": 47,
   "id": "8368ec0f",
   "metadata": {
    "id": "8368ec0f"
   },
   "outputs": [],
   "source": [
    "from sklearn.model_selection import GridSearchCV\n",
    "from sklearn.model_selection import cross_val_score"
   ]
  },
  {
   "cell_type": "code",
   "execution_count": 48,
   "id": "1b1a42ee",
   "metadata": {
    "id": "1b1a42ee"
   },
   "outputs": [],
   "source": [
    "from sklearn.linear_model import Lasso\n",
    "parameters={'alpha':[0.0001,0.001,0.01,0.1,10],'random_state':list(range(0,10))}"
   ]
  },
  {
   "cell_type": "code",
   "execution_count": 49,
   "id": "dbcf9566",
   "metadata": {
    "colab": {
     "base_uri": "https://localhost:8080/"
    },
    "id": "dbcf9566",
    "outputId": "4f7770e4-b933-4f45-98cb-82f30b12b959"
   },
   "outputs": [
    {
     "name": "stdout",
     "output_type": "stream",
     "text": [
      "{'alpha': 0.01, 'random_state': 0}\n"
     ]
    }
   ],
   "source": [
    "ls=Lasso()\n",
    "clif=GridSearchCV(ls,parameters)\n",
    "clif.fit(features_train,target_train)\n",
    "print(clif.best_params_)"
   ]
  },
  {
   "cell_type": "code",
   "execution_count": 50,
   "id": "e1944307",
   "metadata": {
    "colab": {
     "base_uri": "https://localhost:8080/"
    },
    "id": "e1944307",
    "outputId": "e4b31904-83b0-4274-afd3-e7bfb11cb037"
   },
   "outputs": [
    {
     "data": {
      "text/plain": [
       "0.9144822338212197"
      ]
     },
     "execution_count": 50,
     "metadata": {},
     "output_type": "execute_result"
    }
   ],
   "source": [
    "ls=Lasso(alpha=1,random_state=0)\n",
    "ls.fit(features_train,target_train)\n",
    "ls.score(features_train,target_train)\n",
    "pred_ls=ls.predict(features_test)\n",
    "lss=r2_score(target_test,pred_ls)\n",
    "lss"
   ]
  },
  {
   "cell_type": "code",
   "execution_count": 51,
   "id": "0d826431",
   "metadata": {
    "colab": {
     "base_uri": "https://localhost:8080/"
    },
    "id": "0d826431",
    "outputId": "663c441e-155c-4dcc-9b5e-f5308c939a91"
   },
   "outputs": [
    {
     "data": {
      "text/plain": [
       "0.8882007416256036"
      ]
     },
     "execution_count": 51,
     "metadata": {},
     "output_type": "execute_result"
    }
   ],
   "source": [
    "cv_score=cross_val_score(ls,features,target,cv=5)\n",
    "cv_mean=cv_score.mean()\n",
    "cv_mean"
   ]
  },
  {
   "cell_type": "markdown",
   "id": "06ee50b5",
   "metadata": {
    "id": "06ee50b5"
   },
   "source": [
    "# Esamble technique"
   ]
  },
  {
   "cell_type": "code",
   "execution_count": 52,
   "id": "3ca56f77",
   "metadata": {
    "id": "3ca56f77"
   },
   "outputs": [],
   "source": [
    "from sklearn.model_selection import GridSearchCV\n",
    "from sklearn.ensemble import RandomForestRegressor"
   ]
  },
  {
   "cell_type": "code",
   "execution_count": 53,
   "id": "ece7b9e8",
   "metadata": {
    "colab": {
     "base_uri": "https://localhost:8080/"
    },
    "id": "ece7b9e8",
    "outputId": "1e8c2473-aaa3-4857-9f3a-fd39b029557d"
   },
   "outputs": [
    {
     "name": "stdout",
     "output_type": "stream",
     "text": [
      "{'max_depth': 7, 'max_features': 'sqrt', 'n_estimators': 500, 'random_state': 18}\n"
     ]
    }
   ],
   "source": [
    "from sklearn.model_selection import GridSearchCV\n",
    "from sklearn.ensemble import RandomForestRegressor\n",
    "estimator = RandomForestRegressor()\n",
    "parameters={'n_estimators': [200,300,400,500],\n",
    "    'max_features': ['sqrt','log2'],\n",
    "    'max_depth' : [3,4,5,6,7],\n",
    "    'random_state' : [18]}\n",
    "rf=RandomForestRegressor\n",
    "clf=GridSearchCV(estimator, parameters, n_jobs=-1, cv=5)\n",
    "clf.fit(features_train,target_train)\n",
    "print(clf.best_params_)"
   ]
  },
  {
   "cell_type": "code",
   "execution_count": null,
   "id": "TEuH6IAv47ba",
   "metadata": {
    "id": "TEuH6IAv47ba"
   },
   "outputs": [],
   "source": []
  },
  {
   "cell_type": "code",
   "execution_count": 54,
   "id": "1caeaee3",
   "metadata": {
    "colab": {
     "base_uri": "https://localhost:8080/"
    },
    "id": "1caeaee3",
    "outputId": "370f69d9-0ac5-4cd6-dec0-f54718aae41b"
   },
   "outputs": [
    {
     "name": "stdout",
     "output_type": "stream",
     "text": [
      "R2 score: 98.54780004211636\n",
      "Cross_val_score: 97.49783195309662\n"
     ]
    }
   ],
   "source": [
    "rf=RandomForestRegressor(criterion=\"mse\",max_features=\"auto\")\n",
    "rf.fit(features_train,target_train)\n",
    "rf.score(features_train,target_train)\n",
    "pred_decision=rf.predict(features_test)\n",
    "rfs=r2_score(target_test,pred_decision)\n",
    "print(\"R2 score:\",rfs*100)\n",
    "rfscore=cross_val_score(rf,features,target,cv=5)\n",
    "rfc=rfscore.mean()\n",
    "print(\"Cross_val_score:\",rfc*100)"
   ]
  },
  {
   "cell_type": "markdown",
   "id": "de5bf9be",
   "metadata": {},
   "source": [
    "# We are getting accuracy and cross validation both as 98% which shows model performing very well"
   ]
  },
  {
   "cell_type": "code",
   "execution_count": 57,
   "id": "5b32f9f2",
   "metadata": {},
   "outputs": [],
   "source": [
    "import pickle\n",
    "filename='salesss.pkl'\n",
    "pickle.dump(rf,open(filename,'wb'))"
   ]
  },
  {
   "cell_type": "markdown",
   "id": "0ccd5988",
   "metadata": {},
   "source": [
    "# Conclusion:"
   ]
  },
  {
   "cell_type": "code",
   "execution_count": 59,
   "id": "f4aa3282",
   "metadata": {},
   "outputs": [],
   "source": [
    "loaded_model=pickle.load(open('salesss.pkl','rb'))\n",
    "results=loaded_model.score(features_test,target_test)"
   ]
  },
  {
   "cell_type": "code",
   "execution_count": 60,
   "id": "a5f877ee",
   "metadata": {},
   "outputs": [
    {
     "data": {
      "text/plain": [
       "0.9854780004211636"
      ]
     },
     "execution_count": 60,
     "metadata": {},
     "output_type": "execute_result"
    }
   ],
   "source": [
    "results"
   ]
  },
  {
   "cell_type": "code",
   "execution_count": 61,
   "id": "668cad5a",
   "metadata": {},
   "outputs": [],
   "source": [
    "conclusion=pd.DataFrame([loaded_model.predict(features_test)[:],pred_decision[:]],index=['Predicted','Orginal'])"
   ]
  },
  {
   "cell_type": "code",
   "execution_count": 62,
   "id": "b3ceb5c7",
   "metadata": {},
   "outputs": [
    {
     "data": {
      "text/html": [
       "<div>\n",
       "<style scoped>\n",
       "    .dataframe tbody tr th:only-of-type {\n",
       "        vertical-align: middle;\n",
       "    }\n",
       "\n",
       "    .dataframe tbody tr th {\n",
       "        vertical-align: top;\n",
       "    }\n",
       "\n",
       "    .dataframe thead th {\n",
       "        text-align: right;\n",
       "    }\n",
       "</style>\n",
       "<table border=\"1\" class=\"dataframe\">\n",
       "  <thead>\n",
       "    <tr style=\"text-align: right;\">\n",
       "      <th></th>\n",
       "      <th>0</th>\n",
       "      <th>1</th>\n",
       "      <th>2</th>\n",
       "      <th>3</th>\n",
       "      <th>4</th>\n",
       "      <th>5</th>\n",
       "      <th>6</th>\n",
       "      <th>7</th>\n",
       "      <th>8</th>\n",
       "      <th>9</th>\n",
       "      <th>...</th>\n",
       "      <th>30</th>\n",
       "      <th>31</th>\n",
       "      <th>32</th>\n",
       "      <th>33</th>\n",
       "      <th>34</th>\n",
       "      <th>35</th>\n",
       "      <th>36</th>\n",
       "      <th>37</th>\n",
       "      <th>38</th>\n",
       "      <th>39</th>\n",
       "    </tr>\n",
       "  </thead>\n",
       "  <tbody>\n",
       "    <tr>\n",
       "      <th>Predicted</th>\n",
       "      <td>15.286</td>\n",
       "      <td>8.79</td>\n",
       "      <td>6.942</td>\n",
       "      <td>12.088</td>\n",
       "      <td>12.752</td>\n",
       "      <td>16.85</td>\n",
       "      <td>24.967</td>\n",
       "      <td>9.831</td>\n",
       "      <td>12.582</td>\n",
       "      <td>13.1</td>\n",
       "      <td>...</td>\n",
       "      <td>11.243</td>\n",
       "      <td>25.139</td>\n",
       "      <td>16.352</td>\n",
       "      <td>21.322</td>\n",
       "      <td>6.581</td>\n",
       "      <td>20.838</td>\n",
       "      <td>13.245</td>\n",
       "      <td>22.458</td>\n",
       "      <td>11.354</td>\n",
       "      <td>7.271</td>\n",
       "    </tr>\n",
       "    <tr>\n",
       "      <th>Orginal</th>\n",
       "      <td>15.286</td>\n",
       "      <td>8.79</td>\n",
       "      <td>6.942</td>\n",
       "      <td>12.088</td>\n",
       "      <td>12.752</td>\n",
       "      <td>16.85</td>\n",
       "      <td>24.967</td>\n",
       "      <td>9.831</td>\n",
       "      <td>12.582</td>\n",
       "      <td>13.1</td>\n",
       "      <td>...</td>\n",
       "      <td>11.243</td>\n",
       "      <td>25.139</td>\n",
       "      <td>16.352</td>\n",
       "      <td>21.322</td>\n",
       "      <td>6.581</td>\n",
       "      <td>20.838</td>\n",
       "      <td>13.245</td>\n",
       "      <td>22.458</td>\n",
       "      <td>11.354</td>\n",
       "      <td>7.271</td>\n",
       "    </tr>\n",
       "  </tbody>\n",
       "</table>\n",
       "<p>2 rows × 40 columns</p>\n",
       "</div>"
      ],
      "text/plain": [
       "               0     1      2       3       4      5       6      7       8   \\\n",
       "Predicted  15.286  8.79  6.942  12.088  12.752  16.85  24.967  9.831  12.582   \n",
       "Orginal    15.286  8.79  6.942  12.088  12.752  16.85  24.967  9.831  12.582   \n",
       "\n",
       "             9   ...      30      31      32      33     34      35      36  \\\n",
       "Predicted  13.1  ...  11.243  25.139  16.352  21.322  6.581  20.838  13.245   \n",
       "Orginal    13.1  ...  11.243  25.139  16.352  21.322  6.581  20.838  13.245   \n",
       "\n",
       "               37      38     39  \n",
       "Predicted  22.458  11.354  7.271  \n",
       "Orginal    22.458  11.354  7.271  \n",
       "\n",
       "[2 rows x 40 columns]"
      ]
     },
     "execution_count": 62,
     "metadata": {},
     "output_type": "execute_result"
    }
   ],
   "source": [
    "conclusion"
   ]
  },
  {
   "cell_type": "code",
   "execution_count": null,
   "id": "95c0016f",
   "metadata": {},
   "outputs": [],
   "source": []
  }
 ],
 "metadata": {
  "colab": {
   "name": "Untitled12.ipynb",
   "provenance": []
  },
  "kernelspec": {
   "display_name": "Python 3 (ipykernel)",
   "language": "python",
   "name": "python3"
  },
  "language_info": {
   "codemirror_mode": {
    "name": "ipython",
    "version": 3
   },
   "file_extension": ".py",
   "mimetype": "text/x-python",
   "name": "python",
   "nbconvert_exporter": "python",
   "pygments_lexer": "ipython3",
   "version": "3.9.7"
  }
 },
 "nbformat": 4,
 "nbformat_minor": 5
}
